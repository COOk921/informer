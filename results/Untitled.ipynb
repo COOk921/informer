{
 "cells": [
  {
   "cell_type": "code",
   "execution_count": 49,
   "id": "4a519e5a-64f1-43b6-b6c3-84d71b45cc69",
   "metadata": {},
   "outputs": [
    {
     "name": "stdout",
     "output_type": "stream",
     "text": [
      "数组形状: (416, 1, 1)\n",
      "数组数据类型: float32\n"
     ]
    }
   ],
   "source": [
    "import numpy as np\n",
    "import pandas as pd\n",
    "import os\n",
    "\n",
    "# 定义 .npy 文件的路径\n",
    "base_path = \"informer_DWV_ftS_sl14_ll7_pl1_dm512_nh4_el2_dl1_df1024_atprob_fc5_ebtimeF_dtTrue_mxTrue_test_0\"\n",
    "file_name = 'true.npy'\n",
    "file_path = os.path.join(base_path, file_name)\n",
    "\n",
    "try:\n",
    "    # 加载 .npy 文件\n",
    "    data = np.load(file_path)\n",
    "\n",
    "    # 查看数组的基本信息\n",
    "    print(f\"数组形状: {data.shape}\")\n",
    "    print(f\"数组数据类型: {data.dtype}\")\n",
    "\n",
    "    # 查看数组内容\n",
    "    # print(\"数组内容:\")\n",
    "    # print(data)\n",
    "    # 保存为CSV文件\n",
    "\n",
    "    data = data.flatten()\n",
    "    df = pd.DataFrame(data)\n",
    "    df.to_csv(base_path + '/' + file_name +'.csv', index=False)\n",
    "\n",
    "except FileNotFoundError:\n",
    "    print(f\"错误: 文件 {file_path} 未找到。\")\n",
    "except Exception as e:\n",
    "    print(f\"错误: 发生了一个未知错误: {e}\")"
   ]
  },
  {
   "cell_type": "code",
   "execution_count": 32,
   "id": "57e4bc13-1979-4624-bdb6-9d2df7949829",
   "metadata": {},
   "outputs": [
    {
     "name": "stdout",
     "output_type": "stream",
     "text": [
      "[1.78457528e-01 6.32641688e-02 2.51523703e-01 1.59296668e+00\n",
      " 7.78009338e+01 9.27200772e-01]\n"
     ]
    }
   ],
   "source": [
    "print(data)"
   ]
  },
  {
   "cell_type": "markdown",
   "id": "4aa37ac0",
   "metadata": {},
   "source": []
  }
 ],
 "metadata": {
  "kernelspec": {
   "display_name": "Python 3",
   "language": "python",
   "name": "python3"
  },
  "language_info": {
   "codemirror_mode": {
    "name": "ipython",
    "version": 3
   },
   "file_extension": ".py",
   "mimetype": "text/x-python",
   "name": "python",
   "nbconvert_exporter": "python",
   "pygments_lexer": "ipython3",
   "version": "3.9.6"
  }
 },
 "nbformat": 4,
 "nbformat_minor": 5
}
