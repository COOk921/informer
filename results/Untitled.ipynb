{
 "cells": [
  {
   "cell_type": "code",
   "execution_count": 7,
   "id": "4a519e5a-64f1-43b6-b6c3-84d71b45cc69",
   "metadata": {},
   "outputs": [
    {
     "name": "stdout",
     "output_type": "stream",
     "text": [
      "数组形状: (6,)\n",
      "数组数据类型: float64\n",
      "数组内容:\n",
      "[2.32370526e-01 9.97690931e-02 3.15862447e-01 2.99034905e+00\n",
      " 3.29532410e+02 8.84709112e-01]\n"
     ]
    }
   ],
   "source": [
    "import numpy as np\n",
    "import os\n",
    "\n",
    "# 定义 .npy 文件的路径\n",
    "base_path = \"informer_DWV_ftM_sl20_ll10_pl4_dm512_nh8_el2_dl1_df2048_atprob_fc5_ebtimeF_dtTrue_mxTrue_test_0\"\n",
    "file_path = os.path.join(base_path, 'metrics.npy')\n",
    "\n",
    "try:\n",
    "    # 加载 .npy 文件\n",
    "    data = np.load(file_path)\n",
    "\n",
    "    # 查看数组的基本信息\n",
    "    print(f\"数组形状: {data.shape}\")\n",
    "    print(f\"数组数据类型: {data.dtype}\")\n",
    "\n",
    "    # 查看数组内容\n",
    "    print(\"数组内容:\")\n",
    "    print(data)\n",
    "\n",
    "except FileNotFoundError:\n",
    "    print(f\"错误: 文件 {file_path} 未找到。\")\n",
    "except Exception as e:\n",
    "    print(f\"错误: 发生了一个未知错误: {e}\")"
   ]
  },
  {
   "cell_type": "code",
   "execution_count": null,
   "id": "57e4bc13-1979-4624-bdb6-9d2df7949829",
   "metadata": {},
   "outputs": [],
   "source": []
  }
 ],
 "metadata": {
  "kernelspec": {
   "display_name": "Python 3",
   "language": "python",
   "name": "python3"
  },
  "language_info": {
   "codemirror_mode": {
    "name": "ipython",
    "version": 3
   },
   "file_extension": ".py",
   "mimetype": "text/x-python",
   "name": "python",
   "nbconvert_exporter": "python",
   "pygments_lexer": "ipython3",
   "version": "3.9.6"
  }
 },
 "nbformat": 4,
 "nbformat_minor": 5
}
